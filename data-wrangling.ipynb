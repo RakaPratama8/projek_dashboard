{
 "cells": [
  {
   "cell_type": "markdown",
   "metadata": {},
   "source": [
    "### Proyek Analisis Data : Air-quality-dataset\n",
    "\n",
    "* Nama : Muhamad Raka Pratama\n",
    "* Email : raka824pratama@gmail.com\n",
    "* Id Dicoding : rakap824"
   ]
  },
  {
   "cell_type": "markdown",
   "metadata": {},
   "source": [
    "### Menentukan Pertanyaan Bisnis\n",
    "\n",
    "#### Pertanyaan 1\n",
    "Bagaimana pengaruh zat SO2, NO2, CO, O3 terhadap polusi udara ?\n",
    "#### Pertanyaan 2\n",
    "Apakah suhu memengaruhi intensitas partikel debu pada udara ?"
   ]
  },
  {
   "cell_type": "markdown",
   "metadata": {},
   "source": [
    "### Import library"
   ]
  },
  {
   "cell_type": "code",
   "execution_count": null,
   "metadata": {},
   "outputs": [],
   "source": [
    "import pandas as pd\n",
    "import streamlit as st\n",
    "import seaborn as sns\n",
    "import matplotlib.pyplot as plt\n",
    "import numpy as np\n",
    "# from babel.numbers import format_currency\n",
    "# sns.set(style=\"dark\")"
   ]
  },
  {
   "cell_type": "markdown",
   "metadata": {},
   "source": [
    "### Data Wrangling"
   ]
  },
  {
   "cell_type": "markdown",
   "metadata": {},
   "source": [
    "### Gathering Data"
   ]
  },
  {
   "cell_type": "code",
   "execution_count": null,
   "metadata": {},
   "outputs": [],
   "source": [
    "df_Aotizhongxin = pd.read_csv(\"PRSA_Data_Aotizhongxin_20130301-20170228.csv\")\n",
    "df_Changping = pd.read_csv(\"PRSA_Data_Changping_20130301-20170228.csv\")\n",
    "df_Dingling = pd.read_csv(\"PRSA_Data_Dingling_20130301-20170228.csv\")\n",
    "df_Dongsi = pd.read_csv(\"PRSA_Data_Dongsi_20130301-20170228.csv\")\n",
    "df_Guanyuan = pd.read_csv(\"PRSA_Data_Guanyuan_20130301-20170228.csv\")\n",
    "df_Gucheng = pd.read_csv(\"PRSA_Data_Gucheng_20130301-20170228.csv\")\n",
    "df_Wanliu = pd.read_csv(\"PRSA_Data_Wanliu_20130301-20170228.csv\")"
   ]
  },
  {
   "cell_type": "code",
   "execution_count": null,
   "metadata": {},
   "outputs": [],
   "source": [
    "dfs = [\n",
    "    df_Aotizhongxin, df_Changping, df_Dingling, df_Dongsi, df_Guanyuan, df_Gucheng, df_Wanliu\n",
    "]\n",
    "all_df = pd.concat(dfs, ignore_index=True, sort=False)"
   ]
  },
  {
   "cell_type": "code",
   "execution_count": null,
   "metadata": {},
   "outputs": [],
   "source": [
    "all_df[\"station\"].value_counts()"
   ]
  },
  {
   "cell_type": "code",
   "execution_count": null,
   "metadata": {},
   "outputs": [],
   "source": [
    "all_df.info()"
   ]
  },
  {
   "cell_type": "code",
   "execution_count": null,
   "metadata": {},
   "outputs": [],
   "source": [
    "all_df.isna().sum()"
   ]
  },
  {
   "cell_type": "code",
   "execution_count": null,
   "metadata": {},
   "outputs": [],
   "source": [
    "print(f\"Data Duplikat: {all_df.duplicated().sum()}\")\n",
    "all_df.describe()"
   ]
  },
  {
   "cell_type": "code",
   "execution_count": null,
   "metadata": {},
   "outputs": [],
   "source": [
    "all_df.drop_duplicates(inplace=True)"
   ]
  },
  {
   "cell_type": "code",
   "execution_count": null,
   "metadata": {},
   "outputs": [],
   "source": [
    "all_df['datetime'] = pd.to_datetime(\n",
    "    all_df['year'].apply(str) + '-' + all_df['month'].apply(str) + '-' + all_df['day'].apply(str),\n",
    "    format='%Y-%m-%d'\n",
    ")"
   ]
  },
  {
   "cell_type": "code",
   "execution_count": null,
   "metadata": {},
   "outputs": [],
   "source": [
    "all_df.sample(10)"
   ]
  },
  {
   "cell_type": "markdown",
   "metadata": {},
   "source": [
    "### Cleaning Data"
   ]
  },
  {
   "cell_type": "markdown",
   "metadata": {},
   "source": [
    "# CO"
   ]
  },
  {
   "cell_type": "code",
   "execution_count": null,
   "metadata": {},
   "outputs": [],
   "source": [
    "all_df[\"CO\"].isna().sum()"
   ]
  },
  {
   "cell_type": "code",
   "execution_count": null,
   "metadata": {},
   "outputs": [],
   "source": [
    "all_df[\"CO\"].describe()"
   ]
  },
  {
   "cell_type": "code",
   "execution_count": null,
   "metadata": {},
   "outputs": [],
   "source": [
    "plt.plot(all_df[\"CO\"])\n",
    "plt.show()"
   ]
  },
  {
   "cell_type": "code",
   "execution_count": null,
   "metadata": {},
   "outputs": [],
   "source": [
    "all_df[\"CO\"].value_counts()"
   ]
  },
  {
   "cell_type": "code",
   "execution_count": null,
   "metadata": {},
   "outputs": [],
   "source": [
    "q1, q3 = all_df[\"CO\"].quantile(0.25), all_df[\"CO\"].quantile(0.75)\n",
    "iqr = q3 - q1\n",
    "\n",
    "maximum = q3 + (1.5*iqr)\n",
    "minimum = q1 - (1.5*iqr)\n",
    "\n",
    "lower = all_df[\"CO\"] < minimum\n",
    "higher = all_df[\"CO\"] > maximum\n",
    "\n",
    "print(maximum)\n",
    "print(minimum)\n",
    "\n",
    "# all_df[\"CO\"].mask(higher, maximum, inplace=True)"
   ]
  },
  {
   "cell_type": "code",
   "execution_count": null,
   "metadata": {},
   "outputs": [],
   "source": [
    "# all_df[\"PM10\"].fillna(value=all_df[\"PM10\"].mean(), inplace=True)\n",
    "all_df[\"CO\"].interpolate(method=\"linear\", limit_direction=\"forward\", inplace=True)"
   ]
  },
  {
   "cell_type": "markdown",
   "metadata": {},
   "source": [
    "# PM2.5"
   ]
  },
  {
   "cell_type": "code",
   "execution_count": null,
   "metadata": {},
   "outputs": [],
   "source": [
    "all_df[\"PM2.5\"].isna().sum()"
   ]
  },
  {
   "cell_type": "code",
   "execution_count": null,
   "metadata": {},
   "outputs": [],
   "source": [
    "all_df[\"PM2.5\"].describe()"
   ]
  },
  {
   "cell_type": "code",
   "execution_count": null,
   "metadata": {},
   "outputs": [],
   "source": [
    "all_df[\"PM2.5\"].value_counts()"
   ]
  },
  {
   "cell_type": "code",
   "execution_count": null,
   "metadata": {},
   "outputs": [],
   "source": [
    "q1, q3 = all_df[\"PM2.5\"].quantile(0.25), all_df[\"PM2.5\"].quantile(0.75)\n",
    "iqr = q3 - q1\n",
    "\n",
    "maximum = q3 + (1.5*iqr)\n",
    "minimum = q1 - (1.5*iqr)\n",
    "\n",
    "lower = all_df[\"PM2.5\"] < minimum\n",
    "higher = all_df[\"PM2.5\"] > maximum\n",
    "\n",
    "print(maximum)\n",
    "print(minimum)\n",
    "# all_df[\"PM2.5\"].mask(higher, maximum, inplace=True)"
   ]
  },
  {
   "cell_type": "code",
   "execution_count": null,
   "metadata": {},
   "outputs": [],
   "source": [
    "# all_df[\"PM10\"].fillna(value=all_df[\"PM10\"].mean(), inplace=True)\n",
    "all_df[\"PM2.5\"].interpolate(method=\"linear\", limit_direction=\"forward\", inplace=True)"
   ]
  },
  {
   "cell_type": "markdown",
   "metadata": {},
   "source": [
    "# PM10"
   ]
  },
  {
   "cell_type": "code",
   "execution_count": null,
   "metadata": {},
   "outputs": [],
   "source": [
    "all_df[\"PM10\"].isna().sum()"
   ]
  },
  {
   "cell_type": "code",
   "execution_count": null,
   "metadata": {},
   "outputs": [],
   "source": [
    "all_df[\"PM10\"].describe()"
   ]
  },
  {
   "cell_type": "code",
   "execution_count": null,
   "metadata": {},
   "outputs": [],
   "source": [
    "all_df[\"PM10\"].value_counts(ascending=False)"
   ]
  },
  {
   "cell_type": "code",
   "execution_count": null,
   "metadata": {},
   "outputs": [],
   "source": [
    "plt.plot(all_df[\"PM10\"])\n",
    "plt.show()"
   ]
  },
  {
   "cell_type": "code",
   "execution_count": null,
   "metadata": {},
   "outputs": [],
   "source": [
    "q1, q3 = all_df[\"PM10\"].quantile(0.25), all_df[\"PM10\"].quantile(0.75)\n",
    "iqr = q3 - q1\n",
    "\n",
    "maximum = q3 + (1.5*iqr)\n",
    "minimum = q1 - (1.5*iqr)\n",
    "\n",
    "lower = all_df[\"PM10\"] < minimum\n",
    "higher = all_df[\"PM10\"] > maximum\n",
    "\n",
    "print(maximum)\n",
    "print(minimum)\n",
    "# all_df[\"PM10\"].mask(higher, maximum, inplace=True)"
   ]
  },
  {
   "cell_type": "code",
   "execution_count": null,
   "metadata": {},
   "outputs": [],
   "source": [
    "# all_df[\"PM10\"].fillna(value=all_df[\"PM10\"].mean(), inplace=True)\n",
    "all_df[\"PM10\"].interpolate(method=\"linear\", limit_direction=\"forward\", inplace=True)"
   ]
  },
  {
   "cell_type": "code",
   "execution_count": null,
   "metadata": {},
   "outputs": [],
   "source": [
    "all_df.PM10[all_df['PM10'] > 800].value_counts().sort_index(ascending=False)"
   ]
  },
  {
   "cell_type": "markdown",
   "metadata": {},
   "source": [
    "# SO2"
   ]
  },
  {
   "cell_type": "code",
   "execution_count": null,
   "metadata": {},
   "outputs": [],
   "source": [
    "all_df[\"SO2\"].isna().sum()"
   ]
  },
  {
   "cell_type": "code",
   "execution_count": null,
   "metadata": {},
   "outputs": [],
   "source": [
    "all_df[\"SO2\"].describe()"
   ]
  },
  {
   "cell_type": "code",
   "execution_count": null,
   "metadata": {},
   "outputs": [],
   "source": [
    "plt.plot(all_df[\"SO2\"])\n",
    "plt.show()"
   ]
  },
  {
   "cell_type": "code",
   "execution_count": null,
   "metadata": {},
   "outputs": [],
   "source": [
    "q1, q3 = all_df[\"SO2\"].quantile(0.25), all_df[\"SO2\"].quantile(0.75)\n",
    "iqr = q3 - q1\n",
    "\n",
    "maximum = q3 + (1.5*iqr)\n",
    "minimum = q1 - (1.5*iqr)\n",
    "\n",
    "lower = all_df[\"SO2\"] < minimum\n",
    "higher = all_df[\"SO2\"] > maximum\n",
    "\n",
    "all_df[\"SO2\"].mask(higher, maximum, inplace=True)"
   ]
  },
  {
   "cell_type": "code",
   "execution_count": null,
   "metadata": {},
   "outputs": [],
   "source": [
    "# all_df[\"PM10\"].fillna(value=all_df[\"PM10\"].mean(), inplace=True)\n",
    "all_df[\"SO2\"].interpolate(method=\"linear\", limit_direction=\"forward\", inplace=True)"
   ]
  },
  {
   "cell_type": "markdown",
   "metadata": {},
   "source": [
    "# NO2"
   ]
  },
  {
   "cell_type": "code",
   "execution_count": null,
   "metadata": {},
   "outputs": [],
   "source": [
    "all_df[\"NO2\"].isna().sum()"
   ]
  },
  {
   "cell_type": "code",
   "execution_count": null,
   "metadata": {},
   "outputs": [],
   "source": [
    "all_df[\"NO2\"].describe()"
   ]
  },
  {
   "cell_type": "code",
   "execution_count": null,
   "metadata": {},
   "outputs": [],
   "source": [
    "all_df[\"NO2\"].value_counts()"
   ]
  },
  {
   "cell_type": "code",
   "execution_count": null,
   "metadata": {},
   "outputs": [],
   "source": [
    "plt.plot(all_df[\"NO2\"])\n",
    "plt.show()"
   ]
  },
  {
   "cell_type": "code",
   "execution_count": null,
   "metadata": {},
   "outputs": [],
   "source": [
    "q1, q3 = all_df[\"NO2\"].quantile(0.25), all_df[\"NO2\"].quantile(0.75)\n",
    "iqr = q3 - q1\n",
    "\n",
    "maximum = q3 + (1.5*iqr)\n",
    "minimum = q1 - (1.5*iqr)\n",
    "\n",
    "lower = all_df[\"NO2\"] < minimum\n",
    "higher = all_df[\"NO2\"] > maximum\n",
    "\n",
    "print(maximum)\n",
    "print(minimum)\n",
    "\n",
    "# all_df[\"NO2\"].mask(higher, maximum, inplace=True)"
   ]
  },
  {
   "cell_type": "code",
   "execution_count": null,
   "metadata": {},
   "outputs": [],
   "source": [
    "# all_df[\"PM10\"].fillna(value=all_df[\"PM10\"].mean(), inplace=True)\n",
    "all_df[\"NO2\"].interpolate(method=\"linear\", limit_direction=\"forward\", inplace=True)"
   ]
  },
  {
   "cell_type": "markdown",
   "metadata": {},
   "source": [
    "# CO"
   ]
  },
  {
   "cell_type": "code",
   "execution_count": null,
   "metadata": {},
   "outputs": [],
   "source": [
    "all_df[\"CO\"].isna().sum()"
   ]
  },
  {
   "cell_type": "code",
   "execution_count": null,
   "metadata": {},
   "outputs": [],
   "source": [
    "all_df[\"CO\"].describe()"
   ]
  },
  {
   "cell_type": "code",
   "execution_count": null,
   "metadata": {},
   "outputs": [],
   "source": [
    "plt.plot(all_df[\"CO\"])\n",
    "plt.show()"
   ]
  },
  {
   "cell_type": "code",
   "execution_count": null,
   "metadata": {},
   "outputs": [],
   "source": [
    "all_df[\"CO\"].value_counts()"
   ]
  },
  {
   "cell_type": "code",
   "execution_count": null,
   "metadata": {},
   "outputs": [],
   "source": [
    "q1, q3 = all_df[\"CO\"].quantile(0.25), all_df[\"CO\"].quantile(0.75)\n",
    "iqr = q3 - q1\n",
    "\n",
    "maximum = q3 + (1.5*iqr)\n",
    "minimum = q1 - (1.5*iqr)\n",
    "\n",
    "lower = all_df[\"CO\"] < minimum\n",
    "higher = all_df[\"CO\"] > maximum\n",
    "\n",
    "print(maximum)\n",
    "print(minimum)\n",
    "\n",
    "# all_df[\"CO\"].mask(higher, maximum, inplace=True)"
   ]
  },
  {
   "cell_type": "code",
   "execution_count": null,
   "metadata": {},
   "outputs": [],
   "source": [
    "# all_df[\"PM10\"].fillna(value=all_df[\"PM10\"].mean(), inplace=True)\n",
    "all_df[\"CO\"].interpolate(method=\"linear\", limit_direction=\"forward\", inplace=True)"
   ]
  },
  {
   "cell_type": "markdown",
   "metadata": {},
   "source": [
    "# O3"
   ]
  },
  {
   "cell_type": "code",
   "execution_count": null,
   "metadata": {},
   "outputs": [],
   "source": [
    "all_df[\"O3\"].isna().sum()"
   ]
  },
  {
   "cell_type": "code",
   "execution_count": null,
   "metadata": {},
   "outputs": [],
   "source": [
    "all_df.tail(25).sort_values(by=\"O3\", ascending=False)"
   ]
  },
  {
   "cell_type": "code",
   "execution_count": null,
   "metadata": {},
   "outputs": [],
   "source": [
    "all_df[\"O3\"].describe()"
   ]
  },
  {
   "cell_type": "code",
   "execution_count": null,
   "metadata": {},
   "outputs": [],
   "source": [
    "all_df[\"O3\"].value_counts().index.sort_values(ascending=False)"
   ]
  },
  {
   "cell_type": "code",
   "execution_count": null,
   "metadata": {},
   "outputs": [],
   "source": [
    "plt.plot(all_df[\"O3\"])\n",
    "plt.show()"
   ]
  },
  {
   "cell_type": "code",
   "execution_count": null,
   "metadata": {},
   "outputs": [],
   "source": [
    "plt.boxplot(all_df[\"O3\"])\n",
    "plt.show()"
   ]
  },
  {
   "cell_type": "code",
   "execution_count": null,
   "metadata": {},
   "outputs": [],
   "source": [
    "q1, q3 = all_df[\"O3\"].quantile(0.25), all_df[\"O3\"].quantile(0.75)\n",
    "iqr = q3 - q1\n",
    "\n",
    "maximum = q3 + (1.5*iqr)\n",
    "minimum = q1 - (1.5*iqr)\n",
    "\n",
    "lower = all_df[\"O3\"] < minimum\n",
    "higher = all_df[\"O3\"] > maximum\n",
    "\n",
    "print(maximum)\n",
    "print(minimum)"
   ]
  },
  {
   "cell_type": "code",
   "execution_count": null,
   "metadata": {},
   "outputs": [],
   "source": [
    "all_df[\"O3\"].mask(all_df[\"O3\"] > 700, maximum, inplace=True)\n",
    "all_df[\"O3\"].mask(all_df[\"O3\"] > 600, maximum, inplace=True)"
   ]
  },
  {
   "cell_type": "code",
   "execution_count": null,
   "metadata": {},
   "outputs": [],
   "source": [
    "all_df[\"O3\"].interpolate(method=\"linear\", limit_direction=\"forward\", inplace=True)"
   ]
  },
  {
   "cell_type": "markdown",
   "metadata": {},
   "source": [
    "# TEMP"
   ]
  },
  {
   "cell_type": "code",
   "execution_count": null,
   "metadata": {},
   "outputs": [],
   "source": [
    "all_df[\"TEMP\"].isna().sum()"
   ]
  },
  {
   "cell_type": "code",
   "execution_count": null,
   "metadata": {},
   "outputs": [],
   "source": [
    "all_df[\"TEMP\"].describe()"
   ]
  },
  {
   "cell_type": "code",
   "execution_count": null,
   "metadata": {},
   "outputs": [],
   "source": [
    "plt.plot(all_df[\"TEMP\"])\n",
    "plt.show()"
   ]
  },
  {
   "cell_type": "code",
   "execution_count": null,
   "metadata": {},
   "outputs": [],
   "source": [
    "all_df[\"TEMP\"].value_counts()"
   ]
  },
  {
   "cell_type": "code",
   "execution_count": null,
   "metadata": {},
   "outputs": [],
   "source": [
    "q1, q3 = all_df[\"TEMP\"].quantile(0.25), all_df[\"TEMP\"].quantile(0.75)\n",
    "iqr = q3 - q1\n",
    "\n",
    "maximum = q3 + (1.5*iqr)\n",
    "minimum = q1 - (1.5*iqr)\n",
    "\n",
    "lower = all_df[\"TEMP\"] < minimum\n",
    "higher = all_df[\"TEMP\"] > maximum\n",
    "\n",
    "print(maximum)\n",
    "print(minimum)\n",
    "\n",
    "# all_df[\"TEMP\"].mask(higher, maximum, inplace=True)\n",
    "# all_df[\"TEMP\"].mask(lower, minimum, inplace=True)"
   ]
  },
  {
   "cell_type": "code",
   "execution_count": null,
   "metadata": {},
   "outputs": [],
   "source": [
    "# all_df[\"PM10\"].fillna(value=all_df[\"PM10\"].mean(), inplace=True)\n",
    "all_df[\"TEMP\"].interpolate(method=\"linear\", limit_direction=\"forward\", inplace=True)"
   ]
  },
  {
   "cell_type": "markdown",
   "metadata": {},
   "source": [
    "# PRES"
   ]
  },
  {
   "cell_type": "code",
   "execution_count": null,
   "metadata": {},
   "outputs": [],
   "source": [
    "all_df[\"PRES\"].isna().sum()"
   ]
  },
  {
   "cell_type": "code",
   "execution_count": null,
   "metadata": {},
   "outputs": [],
   "source": [
    "all_df[\"PRES\"].describe()"
   ]
  },
  {
   "cell_type": "code",
   "execution_count": null,
   "metadata": {},
   "outputs": [],
   "source": [
    "plt.plot(all_df[\"PRES\"])\n",
    "plt.show()"
   ]
  },
  {
   "cell_type": "code",
   "execution_count": null,
   "metadata": {},
   "outputs": [],
   "source": [
    "all_df[\"PRES\"].value_counts()"
   ]
  },
  {
   "cell_type": "code",
   "execution_count": null,
   "metadata": {},
   "outputs": [],
   "source": [
    "sns.boxplot(all_df[\"PRES\"],)"
   ]
  },
  {
   "cell_type": "code",
   "execution_count": null,
   "metadata": {},
   "outputs": [],
   "source": [
    "q1, q3 = all_df[\"PRES\"].quantile(0.25), all_df[\"PRES\"].quantile(0.75)\n",
    "iqr = q3 - q1\n",
    "\n",
    "maximum = q3 + (1.5*iqr)\n",
    "minimum = q1 - (1.5*iqr)\n",
    "\n",
    "lower = all_df[\"PRES\"] < minimum\n",
    "higher = all_df[\"PRES\"] > maximum\n",
    "\n",
    "print(maximum)\n",
    "print(minimum)\n",
    "\n",
    "# all_df[\"PRES\"].mask(higher, maximum, inplace=True)\n",
    "# all_df[\"PRES\"].mask(lower, minimum, inplace=True)"
   ]
  },
  {
   "cell_type": "code",
   "execution_count": null,
   "metadata": {},
   "outputs": [],
   "source": [
    "# all_df[\"PM10\"].fillna(value=all_df[\"PM10\"].mean(), inplace=True)\n",
    "all_df[\"PRES\"].interpolate(method=\"linear\", limit_direction=\"forward\", inplace=True)"
   ]
  },
  {
   "cell_type": "markdown",
   "metadata": {},
   "source": [
    "# DEWP"
   ]
  },
  {
   "cell_type": "code",
   "execution_count": null,
   "metadata": {},
   "outputs": [],
   "source": [
    "all_df[\"DEWP\"].isna().sum()"
   ]
  },
  {
   "cell_type": "code",
   "execution_count": null,
   "metadata": {},
   "outputs": [],
   "source": [
    "all_df[\"DEWP\"].describe()"
   ]
  },
  {
   "cell_type": "code",
   "execution_count": null,
   "metadata": {},
   "outputs": [],
   "source": [
    "plt.plot(all_df[\"DEWP\"])\n",
    "plt.show()"
   ]
  },
  {
   "cell_type": "code",
   "execution_count": null,
   "metadata": {},
   "outputs": [],
   "source": [
    "all_df[\"DEWP\"].value_counts()"
   ]
  },
  {
   "cell_type": "code",
   "execution_count": null,
   "metadata": {},
   "outputs": [],
   "source": [
    "q1, q3 = all_df[\"DEWP\"].quantile(0.25), all_df[\"DEWP\"].quantile(0.75)\n",
    "iqr = q3 - q1\n",
    "\n",
    "maximum = q3 + (1.5*iqr)\n",
    "minimum = q1 - (1.5*iqr)\n",
    "\n",
    "lower = all_df[\"DEWP\"] < minimum\n",
    "higher = all_df[\"DEWP\"] > maximum\n",
    "\n",
    "print(maximum)\n",
    "print(minimum)\n",
    "\n",
    "# all_df[\"DEWP\"].mask(higher, maximum, inplace=True)\n",
    "# all_df[\"DEWP\"].mask(lower, minimum, inplace=True)"
   ]
  },
  {
   "cell_type": "code",
   "execution_count": null,
   "metadata": {},
   "outputs": [],
   "source": [
    "# all_df[\"PM10\"].fillna(value=all_df[\"PM10\"].mean(), inplace=True)\n",
    "all_df[\"DEWP\"].interpolate(method=\"linear\", limit_direction=\"forward\", inplace=True)"
   ]
  },
  {
   "cell_type": "markdown",
   "metadata": {},
   "source": [
    "# RAIN"
   ]
  },
  {
   "cell_type": "code",
   "execution_count": null,
   "metadata": {},
   "outputs": [],
   "source": [
    "all_df[\"RAIN\"].isna().sum()"
   ]
  },
  {
   "cell_type": "code",
   "execution_count": null,
   "metadata": {},
   "outputs": [],
   "source": [
    "all_df[\"RAIN\"].describe()"
   ]
  },
  {
   "cell_type": "code",
   "execution_count": null,
   "metadata": {},
   "outputs": [],
   "source": [
    "station_rain_mean = all_df.groupby(\"station\", as_index=False).RAIN.mean()"
   ]
  },
  {
   "cell_type": "code",
   "execution_count": null,
   "metadata": {},
   "outputs": [],
   "source": [
    "station_rain_mean.head(100)"
   ]
  },
  {
   "cell_type": "code",
   "execution_count": null,
   "metadata": {},
   "outputs": [],
   "source": [
    "for i in station_rain_mean[\"station\"]:\n",
    "    print(i)"
   ]
  },
  {
   "cell_type": "code",
   "execution_count": null,
   "metadata": {},
   "outputs": [],
   "source": [
    "station_rain_mean[\"station\"]"
   ]
  },
  {
   "cell_type": "code",
   "execution_count": null,
   "metadata": {},
   "outputs": [],
   "source": [
    "all_df[\"RAIN\"].value_counts().sort_values(ascending=False)"
   ]
  },
  {
   "cell_type": "code",
   "execution_count": null,
   "metadata": {},
   "outputs": [],
   "source": [
    "plt.plot(all_df[\"RAIN\"])\n",
    "plt.show()"
   ]
  },
  {
   "cell_type": "code",
   "execution_count": null,
   "metadata": {},
   "outputs": [],
   "source": [
    "all_df[\"RAIN\"].value_counts()"
   ]
  },
  {
   "cell_type": "code",
   "execution_count": null,
   "metadata": {},
   "outputs": [],
   "source": [
    "sns.boxplot(all_df[\"RAIN\"],)"
   ]
  },
  {
   "cell_type": "code",
   "execution_count": null,
   "metadata": {},
   "outputs": [],
   "source": [
    "q1, q3 = all_df[\"RAIN\"].quantile(0.25), all_df[\"RAIN\"].quantile(0.75)\n",
    "iqr = q3 - q1\n",
    "\n",
    "maximum = q3 + (1.5*iqr)\n",
    "minimum = q1 - (1.5*iqr)\n",
    "\n",
    "lower = all_df[\"RAIN\"] < minimum\n",
    "higher = all_df[\"RAIN\"] > maximum\n",
    "\n",
    "print(maximum)\n",
    "print(minimum)\n",
    "\n",
    "# all_df[\"RAIN\"].mask(higher, maximum, inplace=True)\n",
    "# all_df[\"RAIN\"].mask(lower, minimum, inplace=True)"
   ]
  },
  {
   "cell_type": "code",
   "execution_count": null,
   "metadata": {},
   "outputs": [],
   "source": [
    "# all_df[\"PM10\"].fillna(value=all_df[\"PM10\"].mean(), inplace=True)\n",
    "all_df[\"RAIN\"].interpolate(method=\"linear\", limit_direction=\"forward\", inplace=True)"
   ]
  },
  {
   "cell_type": "markdown",
   "metadata": {},
   "source": [
    "# wd"
   ]
  },
  {
   "cell_type": "code",
   "execution_count": null,
   "metadata": {},
   "outputs": [],
   "source": [
    "all_df[\"wd\"].isna().sum()"
   ]
  },
  {
   "cell_type": "code",
   "execution_count": null,
   "metadata": {},
   "outputs": [],
   "source": [
    "all_df[\"wd\"].value_counts()"
   ]
  },
  {
   "cell_type": "code",
   "execution_count": null,
   "metadata": {},
   "outputs": [],
   "source": [
    "new_wd = {\n",
    "    \"ENE\" : \"NE\",\n",
    "    \"NNE\" : \"NE\",\n",
    "    \"NNW\" : \"NW\",\n",
    "    \"WNW\" : \"NW\",\n",
    "    \"ESE\" : \"SE\",\n",
    "    \"SSW\" : \"SW\",\n",
    "    \"WSW\" : \"SW\",\n",
    "    \"SSE\" : \"SE\",\n",
    "}\n",
    "\n",
    "def replace_new_wd(wd):\n",
    "    return new_wd.get(wd, wd)\n",
    "\n",
    "all_df[\"wd\"] = all_df[\"wd\"].apply(replace_new_wd)"
   ]
  },
  {
   "cell_type": "code",
   "execution_count": null,
   "metadata": {},
   "outputs": [],
   "source": [
    "all_df[\"wd\"].describe(include=\"all\")"
   ]
  },
  {
   "cell_type": "code",
   "execution_count": null,
   "metadata": {},
   "outputs": [],
   "source": [
    "all_df[\"wd\"].fillna(value=\"undefined\", inplace=True)"
   ]
  },
  {
   "cell_type": "markdown",
   "metadata": {},
   "source": [
    "# WSPM"
   ]
  },
  {
   "cell_type": "code",
   "execution_count": null,
   "metadata": {},
   "outputs": [],
   "source": [
    "all_df[\"WSPM\"].isna().sum()"
   ]
  },
  {
   "cell_type": "code",
   "execution_count": null,
   "metadata": {},
   "outputs": [],
   "source": [
    "all_df[\"WSPM\"].describe()"
   ]
  },
  {
   "cell_type": "code",
   "execution_count": null,
   "metadata": {},
   "outputs": [],
   "source": [
    "plt.plot(all_df[\"WSPM\"])\n",
    "plt.show()"
   ]
  },
  {
   "cell_type": "code",
   "execution_count": null,
   "metadata": {},
   "outputs": [],
   "source": [
    "all_df[all_df[\"WSPM\"] == 0.0].value_counts().sum()"
   ]
  },
  {
   "cell_type": "code",
   "execution_count": null,
   "metadata": {},
   "outputs": [],
   "source": [
    "q1, q3 = all_df[\"WSPM\"].quantile(0.25), all_df[\"WSPM\"].quantile(0.75)\n",
    "iqr = q3 - q1\n",
    "\n",
    "maximum = q3 + (1.5*iqr)\n",
    "minimum = q1 - (1.5*iqr)\n",
    "\n",
    "lower = all_df[\"WSPM\"] < minimum\n",
    "higher = all_df[\"WSPM\"] > maximum\n",
    "\n",
    "print(maximum)\n",
    "print(minimum)\n",
    "\n",
    "# all_df[\"WSPM\"].mask(higher, maximum, inplace=True)\n",
    "# all_df[\"WSPM\"].mask(lower, minimum, inplace=True)"
   ]
  },
  {
   "cell_type": "code",
   "execution_count": null,
   "metadata": {},
   "outputs": [],
   "source": [
    "all_df.WSPM.interpolate(method=\"linear\", limit_direction=\"forward\", inplace=True)"
   ]
  },
  {
   "cell_type": "code",
   "execution_count": null,
   "metadata": {},
   "outputs": [],
   "source": [
    "all_df.to_csv(\"all_df.csv\", index=False)"
   ]
  },
  {
   "cell_type": "markdown",
   "metadata": {},
   "source": [
    "### Exploratory Data Analysis (EDA)"
   ]
  },
  {
   "cell_type": "markdown",
   "metadata": {},
   "source": [
    "Explore ....."
   ]
  },
  {
   "cell_type": "code",
   "execution_count": null,
   "metadata": {},
   "outputs": [],
   "source": [
    "all_df.groupby(by='station').agg({\n",
    "    'PM2.5' : 'mean',\n",
    "    'PM10' : 'mean',\n",
    "    'SO2' : 'mean',\n",
    "    'NO2' : 'mean',\n",
    "    'CO' : 'mean',\n",
    "    'O3' : 'mean',\n",
    "}).sort_values(by='PM2.5')"
   ]
  },
  {
   "cell_type": "code",
   "execution_count": null,
   "metadata": {},
   "outputs": [],
   "source": [
    "all_df.groupby(by='station').agg({\n",
    "    'PM2.5' : 'max',\n",
    "    'PM10' : 'max',\n",
    "}).sort_values(by='PM2.5', ascending=False)"
   ]
  },
  {
   "cell_type": "code",
   "execution_count": null,
   "metadata": {},
   "outputs": [],
   "source": [
    "all_df.groupby(by=['station', 'year', 'month']).agg({\n",
    "    'PM2.5' : 'mean',\n",
    "    'PM10' : 'mean',\n",
    "}).head(20)"
   ]
  },
  {
   "cell_type": "code",
   "execution_count": null,
   "metadata": {},
   "outputs": [],
   "source": [
    "all_df.groupby(by=['station']).agg({\n",
    "    'PM2.5' : ['mean', 'max', 'min'],\n",
    "})"
   ]
  },
  {
   "cell_type": "code",
   "execution_count": null,
   "metadata": {},
   "outputs": [],
   "source": [
    "all_df.groupby(by=['station', 'year', 'month']).agg({\n",
    "    'PM2.5' : ['mean', 'max', 'min'],\n",
    "    'PM10' : ['mean', 'max', 'min']\n",
    "})"
   ]
  },
  {
   "cell_type": "code",
   "execution_count": null,
   "metadata": {},
   "outputs": [],
   "source": [
    "all_df.groupby(by=['day']).agg({\n",
    "    'PM2.5' : 'mean'\n",
    "})"
   ]
  },
  {
   "cell_type": "code",
   "execution_count": null,
   "metadata": {},
   "outputs": [],
   "source": [
    "all_df.groupby(by=['station', 'datetime']).agg({\n",
    "    'TEMP' : 'mean',\n",
    "    'PM2.5' : 'mean',\n",
    "    'PM10' : 'mean',\n",
    "})"
   ]
  },
  {
   "cell_type": "code",
   "execution_count": null,
   "metadata": {},
   "outputs": [],
   "source": [
    "all_df.groupby(by='wd').agg({\n",
    "    'PM2.5' : ['mean', 'max', 'min'],\n",
    "    'PM10' : ['mean', 'max', 'min']\n",
    "})"
   ]
  },
  {
   "cell_type": "code",
   "execution_count": null,
   "metadata": {},
   "outputs": [],
   "source": [
    "all_df.groupby(by=['station', 'wd']).agg({\n",
    "    'wd' : 'count'\n",
    "}).head(15)"
   ]
  },
  {
   "cell_type": "code",
   "execution_count": null,
   "metadata": {},
   "outputs": [],
   "source": [
    "all_df.groupby(by=['station', 'datetime']).agg({\n",
    "    'TEMP' : 'mean',\n",
    "    'PM2.5' : 'mean',\n",
    "    'PM10' : 'mean',\n",
    "}).reset_index()"
   ]
  },
  {
   "cell_type": "code",
   "execution_count": null,
   "metadata": {},
   "outputs": [],
   "source": [
    "answer_1 = all_df.groupby(by='PM2.5').agg({\n",
    "    'SO2' : 'mean',\n",
    "    'NO2' : 'mean',\n",
    "    'CO' : 'mean',\n",
    "    'O3' : 'mean'\n",
    "}).reset_index()"
   ]
  },
  {
   "cell_type": "code",
   "execution_count": null,
   "metadata": {},
   "outputs": [],
   "source": [
    "answer_2 = all_df.groupby(by=\"TEMP\").agg({\n",
    "    'PM2.5' : 'mean',\n",
    "    'PM10' : 'mean',\n",
    "}).reset_index()"
   ]
  },
  {
   "cell_type": "markdown",
   "metadata": {},
   "source": [
    "### Visualization & Explanatory Analysis"
   ]
  },
  {
   "cell_type": "markdown",
   "metadata": {},
   "source": [
    "#### Pertanyaan 1\n",
    "Bagaimana pengaruh zat SO2, NO2, CO, O3 terhadap polusi udara ?\n",
    "#### Pertanyaan 2\n",
    "Apakah suhu memengaruhi intensitas partikel debu pada udara ?"
   ]
  },
  {
   "cell_type": "markdown",
   "metadata": {},
   "source": [
    "### ------------------------------------------------------------------------------------"
   ]
  },
  {
   "cell_type": "markdown",
   "metadata": {},
   "source": [
    "#### Pertanyaan 1"
   ]
  },
  {
   "cell_type": "code",
   "execution_count": null,
   "metadata": {},
   "outputs": [],
   "source": [
    "fig, ax = plt.subplots(figsize=(35, 15))\n",
    "\n",
    "ax.plot(\n",
    "    answer_1['PM2.5'],\n",
    "    answer_1['SO2'],\n",
    "    linewidth=5,\n",
    "    marker='.',\n",
    ")\n",
    "\n",
    "plt.show()"
   ]
  },
  {
   "cell_type": "code",
   "execution_count": null,
   "metadata": {},
   "outputs": [],
   "source": [
    "fig, ax = plt.subplots(figsize=(35, 15))\n",
    "\n",
    "ax.plot(\n",
    "    answer_1['PM2.5'],\n",
    "    answer_1['NO2'],\n",
    "    linewidth=5,\n",
    "    marker='.',\n",
    ")\n",
    "\n",
    "plt.show()"
   ]
  },
  {
   "cell_type": "code",
   "execution_count": null,
   "metadata": {},
   "outputs": [],
   "source": [
    "fig, ax = plt.subplots(figsize=(35, 15))\n",
    "\n",
    "ax.plot(\n",
    "    answer_1['PM2.5'],\n",
    "    answer_1['CO'],\n",
    "    linewidth=5,\n",
    "    marker='.',\n",
    ")\n",
    "\n",
    "plt.show()"
   ]
  },
  {
   "cell_type": "code",
   "execution_count": null,
   "metadata": {},
   "outputs": [],
   "source": [
    "fig, ax = plt.subplots(figsize=(35, 15))\n",
    "\n",
    "ax.plot(\n",
    "    answer_1['PM2.5'],\n",
    "    answer_1['O3'],\n",
    "    linewidth=5,\n",
    "    marker='.',\n",
    ")\n",
    "\n",
    "plt.show()"
   ]
  },
  {
   "cell_type": "markdown",
   "metadata": {},
   "source": [
    "#### Pertanyaan 2"
   ]
  },
  {
   "cell_type": "code",
   "execution_count": null,
   "metadata": {},
   "outputs": [],
   "source": [
    "fig, ax = plt.subplots(figsize=(35, 15))\n",
    "\n",
    "ax.plot(\n",
    "    answer_2['TEMP'],\n",
    "    answer_2['PM2.5'],\n",
    "    linewidth=5,\n",
    "    marker='.',\n",
    "    markerfacecolor='blue',\n",
    "    label='PM2.5',\n",
    ")\n",
    "ax.plot(\n",
    "    answer_2['TEMP'],\n",
    "    answer_2['PM10'],\n",
    "    linewidth=5,\n",
    "    marker='.',\n",
    "    markerfacecolor='red',\n",
    "    label='PM10',\n",
    ")\n",
    "\n",
    "plt.legend(fontsize=35)\n",
    "\n",
    "plt.show()"
   ]
  },
  {
   "cell_type": "markdown",
   "metadata": {},
   "source": [
    "### Conclusion"
   ]
  },
  {
   "cell_type": "markdown",
   "metadata": {},
   "source": [
    "* Conclusion pertanyaan 1 : \n",
    "    - Pada visualisasi hubungan antara nilai partikel SO2, NO2, dan CO dengan partikel PM2.5, yaitu semakin besar nilai partikel PM2.5, maka semakin besar pula nilai ataupun kandungan SO2, NO2, dan CO pada udara.\n",
    "    - Pada visualisasi antara nilai O3 dengan partikel PM2.5, dapat dilihat mengalami penurunan nilai. jaid dapat disimpulkan bahwa semakin besar nilai PM2.5, semakin kecil nilai O3\n",
    "* Conclusion pertanyaan 2 : \n",
    "    - Pada visualisasi antara nilai suhu dengan partikel PM2.5 dan PM10, dapat disimpulkan bahwa semakin besar nilai suatu suhu, maka intensitas partikel PM2.5 dan PM10 akan dengan perlahan meningkat pula"
   ]
  }
 ],
 "metadata": {
  "kernelspec": {
   "display_name": "Python 3",
   "language": "python",
   "name": "python3"
  },
  "language_info": {
   "codemirror_mode": {
    "name": "ipython",
    "version": 3
   },
   "file_extension": ".py",
   "mimetype": "text/x-python",
   "name": "python",
   "nbconvert_exporter": "python",
   "pygments_lexer": "ipython3",
   "version": "3.9.13"
  }
 },
 "nbformat": 4,
 "nbformat_minor": 2
}
